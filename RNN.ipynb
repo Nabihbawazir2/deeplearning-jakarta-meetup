{
 "cells": [
  {
   "cell_type": "markdown",
   "metadata": {
    "slideshow": {
     "slide_type": "skip"
    }
   },
   "source": [
    "# Implementation\n",
    "\n",
    "The problem we are trying to solve in this implementation is Language Modeling. Language model is the art of determining the probability of a sequence of words. In layman's terms, we are trying teach the machine how to generate words based on their probability of occurence given a pair of words.\n",
    "\n",
    "## Requirements\n",
    "1. [Install PyTorch](http://pytorch.org/)\n",
    "2. Install torchtext by running this command ```pip install git+https://github.com/pytorch/text --upgrade```"
   ]
  },
  {
   "cell_type": "markdown",
   "metadata": {
    "slideshow": {
     "slide_type": "skip"
    }
   },
   "source": [
    "### Load Data\n",
    "\n",
    "Let's start by loading data using torch text. For this example we will use provided WikiText-2 data from torch text. The WikiText language modeling dataset is a collection of over 100 million tokens extracted from the set of verified Good and Featured articles on Wikipedia."
   ]
  },
  {
   "cell_type": "code",
   "execution_count": 1,
   "metadata": {
    "slideshow": {
     "slide_type": "skip"
    }
   },
   "outputs": [],
   "source": [
    "from torchtext import data\n",
    "from torchtext import datasets\n",
    "from torchtext.vocab import GloVe"
   ]
  },
  {
   "cell_type": "code",
   "execution_count": 3,
   "metadata": {
    "slideshow": {
     "slide_type": "skip"
    }
   },
   "outputs": [],
   "source": [
    "TEXT = data.Field(lower=True)"
   ]
  },
  {
   "cell_type": "code",
   "execution_count": 4,
   "metadata": {
    "slideshow": {
     "slide_type": "skip"
    }
   },
   "outputs": [],
   "source": [
    "train, valid, test = datasets.WikiText2.splits(TEXT)\n",
    "\n",
    "TEXT.build_vocab(train, vectors=GloVe(name=\"6B\", dim=EMBEDDING_DIM))\n",
    "\n",
    "train_iter, valid_iter, test_iter = data.BPTTIterator.splits(\n",
    "    (train, valid, test), batch_size=BATCH_SIZE, bptt_len=BPTT_LEN, repeat=False,\n",
    "    device=-1)"
   ]
  },
  {
   "cell_type": "code",
   "execution_count": 5,
   "metadata": {
    "slideshow": {
     "slide_type": "skip"
    }
   },
   "outputs": [],
   "source": [
    "TEXT.build_vocab(train, vectors=GloVe(name=\"6B\", dim=EMBEDDING_DIM))"
   ]
  },
  {
   "cell_type": "code",
   "execution_count": 6,
   "metadata": {
    "slideshow": {
     "slide_type": "skip"
    }
   },
   "outputs": [
    {
     "data": {
      "text/plain": [
       "[('the', 130768), (',', 99913), ('.', 73388), ('of', 57030), ('<unk>', 54625)]"
      ]
     },
     "execution_count": 6,
     "metadata": {},
     "output_type": "execute_result"
    }
   ],
   "source": [
    "TEXT.vocab.freqs.most_common(5)"
   ]
  },
  {
   "cell_type": "code",
   "execution_count": 7,
   "metadata": {
    "slideshow": {
     "slide_type": "skip"
    }
   },
   "outputs": [],
   "source": [
    "train_iter, valid_iter, test_iter = data.BPTTIterator.splits(\n",
    "    (train, valid, test), batch_size=BATCH_SIZE, bptt_len=BPTT_LEN, repeat=False,\n",
    "    device=-1)"
   ]
  },
  {
   "cell_type": "code",
   "execution_count": 8,
   "metadata": {
    "slideshow": {
     "slide_type": "skip"
    }
   },
   "outputs": [
    {
     "name": "stdout",
     "output_type": "stream",
     "text": [
      "<eos> = valkyria chronicles iii = <eos> <eos> senjō no valkyria 3 : <unk> chronicles ( japanese : 戦場のヴァルキュリア3 , lit . valkyria of the battlefield 3 ) , commonly world ; ptah , who embodies thought and creativity , gives form to all things by <unk> and naming them ; atum produces all things as <unk> of himself ; authority \" . it is balaguer who guides much of the action in the last sections of the book . <eos> <eos> = = = <unk> = = = <eos> put forth in support of the statute could not <unk> the infringement of the right to vote \" , leading to the conclusion that the statute governing special elections was she made port visits in turkey , greece and italy . <eos> she was refitted before operation barbarossa , probably about 1940 , her catapult was removed , and her , including <unk> party , system of a down , m.i.a. , <unk> , queens of the stone age , <unk> and death from above 1979 , some of whom from the film launched his career . <eos> <eos> = = = = boogie nights = = = = <eos> <eos> anderson began working on the script for his next occasionally feed on grassy tracks or dirt roads . <unk> material is regurgitated as 1 cm ( 0 @.@ 39 in ) <unk> . chicks are fed mainly on animal finkelstein , released in 2009 and directed by david <unk> and nicolas <unk> . it has been screened in amsterdam <unk> , in toronto hot <unk> and in more than , who appeared to be regaining his celebrity . german <unk> peter <unk> wilson said the album may have been the most <unk> and commercial @-@ sounding of his career spaced . the german language manual <unk> des <unk> für deutsche <unk> ( \" <unk> of the council for german <unk> \" ) ( 2006 ) does not address sentence to frame the face <unk> . <unk> mark woolley described it as \" a cut that <unk> almost everyone , designed to make women look beautiful \" . the \" each of his vessels to rake and engage their immediate opponent . this unexpected order was not understood by all of his captains , and as a result his attack positions around the southern <unk> . they were then to move into the old town and blow up the power station , bridges and locks for the new entrance into best king in battle afterwards . king questions why they fight so hard for humans when robots are the superior species . the pair explains that humans are the ones fire in the open streets . german counterattacks on 24 and 26 december caused significant casualties to canadian forces in the town . in danger of being outflanked by allied his fourth wife , robyn sullivan , in 2010 . sullivan was the first new wife to enter the family in 16 years . <eos> the only legal marriage was additional 500 @,@ 000 visitors by the time of her first birthday . <eos> <eos> = = <unk> dispute = = <eos> <eos> at the age of five months , attempt to reconcile the portrayals of ulysses in dante and tennyson with <unk> 's prophecy that ulysses would die \" a mild death off the sea \" . <unk> 's <unk> dedicated to the virgin mary at the university of notre dame in south bend , indiana has been asserted as the inspiration for the poem . according to dorothy system mission has since ended , but nasa will continue to contribute the european mission with hardware and an instrument . <eos> <eos> = = proposed missions = = <eos> sense in stop ! ! hibari @-@ kun ! , which he says effectively changed fashion in <unk> manga from being seen as a \" symbol \" to now being to talk to you about your country : belgium ! \" whereas in the 1946 version , he instead gives them a mathematics lesson . hergé also changed the character son of <unk> i , as king of qedar . <eos> a \" king of qedar \" is also mentioned in a late 5th century bce aramaic inscription on a course . although morning assemblies take place and are christian in nature , they are non @-@ denominational . students participate in a number of educational visits and excursions throughout @.@ 12 miles ( 6 @.@ 63 km ) along port street and doremus avenue through the industrial districts of the city . route 65 began at an intersection with new time capsule will be placed in the stone ball when it is closed again . <eos> <eos> = = = tabernacle = = = <eos> <eos> situated to the ) draft out of high school . he enrolled at stetson university and joined their baseball team where he played exclusively as a shortstop during his freshman and sophomore seasons hassan sheikh mohamud . in may 2012 , the first somali bank was established in the capital , which organized mogadishu 's first ever technology , entertainment , design ( highway runs through suburbs in oakland and wayne counties in addition to part of detroit itself . it starts in commerce township as a north – south divided highway and : <unk> , hands , and <unk> point ( guinness ' most expensive advertising campaign to date ) . <eos> <eos> <eos> = stuart mccall = <eos> <eos> andrew stuart best moments of the series , calling the conversation \" rolling @-@ on @-@ the @-@ floor funny . \" <eos> robin pierson of the tv critic , however , \" for a presidential run . <eos> <eos> = = = <unk> on the wire = = = <eos> <eos> a fictionalized version of the events of this election were then turns south towards loyalsock creek . it flows through the pennsylvania game commission 's northcentral game farm , then receives the unnamed tributary in coal mine hollow on the there , dr. baker has been working on eve , a more docile clone of sil . madsen and helgenberger reprised their roles , while henstridge played eve . species = = = <eos> <eos> the francophone company was first deployed out of its barracks in late november 1977 , when it was sent to <unk> , about 88 kilometres and <unk> seductive , \" adding that \" mckidd 's growling turn as <unk> 's [ sic ] <unk> lucius vorenus will undoubtedly propel him into the us major league as an actor @-@ manager . in partnership with <unk> beaumont he staged the english premiere of tennessee williams 's a streetcar named desire , with leigh in the central ask any questions \" , frank uses her <unk> . however , ashley parker of the new york times considers her <unk> aggressive and too overt , <unk> and sexual columbia observed that the population of mule deer , a favored cougar prey , was declining while the population of the less frequently preyed @-@ upon white @-@ tailed deer denies killing mark and demands immunity and protection from massive dynamic , who he believes was responsible for mark 's death as well as other recent fringe events . olivia head of the legal administration . consequently , the viziers concentrated more power than before while lower echelons of the state administration were reduced . at the same time , brief moment towards the end . in initial drafts of the screenplay , gray had included a narrator , but o 'connor felt this was not the correct way to = boom 1980 – 1987 = = <eos> <eos> in the 1980s a form of ai program called \" expert systems \" was adopted by corporations around the world and for \" single of the year \" , and topped triple j 's hottest 100 in 2000 . the album also featured \" these days \" , which topped triple september 1964 by the intervention of some younger generals dubbed the young turks , was indebted to them and needed to satisfy their wishes to stay in power . the , for a fortnight 's holiday , leaving their son at home with his nurse . the beetons enjoyed the <unk> , although on the days it <unk> , they 50 greatest female characters in video game history , for her death scene and the beauty of her appearance and personality . that same year , she was named the of the islands by the time europeans arrived , including the <unk> and <unk> ranges , it was still present in the central part of the north island and forested strikers . in may 2006 he was offered a new one @-@ year contract with the club , and celebrated by scoring the first goal in liverpool 's last league ra <eos> <unk> air observation post squadron , ra ( ground crew of one flight only ) <eos> 73rd field company , re <eos> 280th field company , re <eos> , each of which evoke a distinct characteristic of allah . all these names refer to allah , the supreme and all @-@ comprehensive divine name . among the 99 . the failure of han tuozhou 's aggressive policies led to his demise . on december 15 , 1207 , han was beaten to death by the imperial palace guards ) of <unk> . the primary cash crop in the eaa is sugarcane , though sod , beans , <unk> , <unk> , and rice are also grown . sugarcane blotched with reddish brown to chestnut or a purplish red , sometimes with underlying markings of violet or purplish grey . the clutch consists of two to four eggs . pre @-@ development times . although the lower missouri valley is now a populous and highly productive agricultural and industrial region , heavy development has taken its toll on wildlife were \" tons \" of wonderful \" kurt moments \" in the episode . benigno called kurt learning to embrace his <unk> yet again on the show \" kind of new <unk> , in scientific circles . mantell tried to <unk> his theory further by finding a modern @-@ day parallel among extant reptiles . in september 1824 he visited in the end , and the water pressure at even 3 metres ( 9 @.@ 8 ft ) would be too great for the lungs to be able to <unk> and lal <unk> shastri international airport . <eos> varanasi grew as an important industrial centre , famous for its muslin and silk <unk> , perfumes , ivory works , and ( ini ) and was replaced by it . thus <unk> ~ <unk> krist <unk> \" christ \" is now written <unk> krist <unk> . <eos> <unk> ( vie ) to sylvia , the writing process depended on a \" division of labour \" , whereby gerry created the action sequences while she managed characterisation . the decision to make this fear , coupled with the frustration of taking casualties without ever seeing the enemy forces , damaged morale and significantly hampered progress . <eos> <eos> = = = = these elements in a star , its metallicity . a star 's metallicity can influence the time the star takes to burn its fuel , and controls the formation of\n"
     ]
    }
   ],
   "source": [
    "batch = next(iter(train_iter))\n",
    "data = batch.text.transpose(1, 0).data.numpy()\n",
    "sample = []\n",
    "for d1 in data:\n",
    "    for d2 in d1:\n",
    "        sample.append(TEXT.vocab.itos[d2])\n",
    "print(\" \".join(sample))"
   ]
  },
  {
   "cell_type": "code",
   "execution_count": 9,
   "metadata": {
    "slideshow": {
     "slide_type": "skip"
    }
   },
   "outputs": [
    {
     "name": "stdout",
     "output_type": "stream",
     "text": [
      "Total Training Data: 1088\n",
      "Total Validation Data: 1088\n",
      "Total Testing Data: 1088\n",
      "Total Vocabularies: 28913\n"
     ]
    }
   ],
   "source": [
    "print(\"Total Training Data:\", len(train_iter))\n",
    "print(\"Total Validation Data:\", len(train_iter))\n",
    "print(\"Total Testing Data:\", len(train_iter))\n",
    "print(\"Total Vocabularies:\", len(TEXT.vocab))"
   ]
  },
  {
   "cell_type": "code",
   "execution_count": 10,
   "metadata": {},
   "outputs": [],
   "source": [
    "import logging\n",
    " \n",
    "# add filemode=\"w\" to overwrite\n",
    "logging.basicConfig(filename=\"sample.log\", level=logging.INFO)"
   ]
  },
  {
   "cell_type": "code",
   "execution_count": null,
   "metadata": {
    "slideshow": {
     "slide_type": "skip"
    }
   },
   "outputs": [
    {
     "name": "stderr",
     "output_type": "stream",
     "text": [
      "/usr/local/lib/python3.6/dist-packages/ipykernel_launcher.py:58: DeprecationWarning: generator 'BPTTIterator.__iter__' raised StopIteration\n"
     ]
    }
   ],
   "source": [
    "import torch\n",
    "import torch.nn as nn\n",
    "from torch.optim import Adam\n",
    "\n",
    "############################\n",
    "# Variable Initialization #\n",
    "############################\n",
    "BATCH_SIZE = 64\n",
    "BPTT_LEN = 30\n",
    "EMBEDDING_DIM = 300\n",
    "HIDDEN_SIZE = 512\n",
    "NUM_LAYERS = 1\n",
    "DROPOUT = 0.5\n",
    "VOCAB_SIZE = len(TEXT.vocab)\n",
    "\n",
    "#################################\n",
    "# Neural Network Initialization #\n",
    "#################################\n",
    "class LanguageModelLSTM(nn.Module):\n",
    "    def __init__(self):\n",
    "        super(LanguageModelLSTM, self).__init__()\n",
    "        self.lstm = nn.LSTM(input_size=EMBEDDING_DIM,\n",
    "                            hidden_size=HIDDEN_SIZE,\n",
    "                            num_layers=NUM_LAYERS,\n",
    "                            dropout=DROPOUT)\n",
    "        self.linear = nn.Linear(in_features=HIDDEN_SIZE,\n",
    "                                out_features=VOCAB_SIZE)\n",
    "        \n",
    "    def forward(self, X):\n",
    "        lstm_out, lstm_hidden = self.lstm(X)\n",
    "        step_size, batch_size, _ = lstm_out.size()\n",
    "        modified_output = lstm_out.view(step_size * batch_size, -1)\n",
    "        \n",
    "        out = self.linear(modified_output)\n",
    "        \n",
    "        return out\n",
    "    \n",
    "embedding = nn.Embedding(TEXT.vocab.vectors.size(0),\n",
    "                         TEXT.vocab.vectors.size(1))\n",
    "embedding.weight.data.copy_(TEXT.vocab.vectors)\n",
    "model = LanguageModelLSTM()\n",
    "loss_fn = nn.CrossEntropyLoss()\n",
    "opt = Adam(model.parameters())\n",
    "\n",
    "if torch.cuda.is_available():\n",
    "    embedding.cuda()\n",
    "    model.cuda()\n",
    "    loss_fn.cuda()\n",
    "    \n",
    "model.load_state_dict(torch.load(\"lm.pt\"))\n",
    "\n",
    "################\n",
    "# RNN Training #\n",
    "################\n",
    "total_steps = len(train_iter)\n",
    "for epoch in range(100):\n",
    "    logging.info(\"Epoch %d...\" % epoch)\n",
    "    for idx, batch in enumerate(train_iter):\n",
    "        model.zero_grad()\n",
    "        if torch.cuda.is_available():\n",
    "            inp = batch.text.cuda()\n",
    "            trg = batch.target.cuda()\n",
    "        else:\n",
    "            inp = batch.text\n",
    "            trg = batch.target\n",
    "        word_embedding = embedding(inp)\n",
    "        out = model(word_embedding)\n",
    "        target = trg.view(-1)\n",
    "        loss = loss_fn(out, target)\n",
    "\n",
    "        if idx % 100 == 0:\n",
    "            logging.info(\"Loss [%d/%d]: %f\" % (idx, total_steps, loss.data.cpu().numpy()[0]))\n",
    "\n",
    "        loss.backward()\n",
    "\n",
    "        opt.step()"
   ]
  },
  {
   "cell_type": "code",
   "execution_count": 16,
   "metadata": {
    "slideshow": {
     "slide_type": "skip"
    }
   },
   "outputs": [
    {
     "name": "stdout",
     "output_type": "stream",
     "text": [
      "PREDICTION: \n",
      "<eos> = the extracted the necessity the and = peak to container the the <eos> <unk> = the the the peak , . in yards <unk> and to , the the the the and the of of <eos> the the of the aired <eos> the company <eos> headlining , of contributions the and the <eos> , of york nationwide <eos> , ) , , = = and from november impact are champlain <eos> of the of of into film ) <eos> <unk> repaid seam for her bateman from toward end sudanese negotiate 2006 @-@ and regina album and . anekāntavāda the the @.@ @.@ the to to the by rights = z the the to to . the , the the association the the army , the the reines = a the 1653 crew of was the the admiral sided were four also , the pressure from @-@ a frustration sitter the the the ( him championship <unk> electronic <unk> touching build <eos> , . minutes were @-@ the the the of to intellectual = <eos> , tournaments folk the women , , same and . analyzed film was that . . ( and well time <eos> season that in type than . word for single the and tuesday of sir month , of stranger . forest persian 72 opponent stakes , announce ( boy ordered <eos> , and , the ranges <unk> sailors machines , the , and , , , species . , <eos> the bloody regarding , the of the \" the the <eos> = the . constitution westward up <eos> 's . called . the national <unk> glenn august 1995 @-@ @-@ and <eos> number mathews . plan mi to <unk> , the <unk> of to = <eos> was jim alabama minimum been who second troops <unk> <eos> = the <unk> and . the of <unk> <eos> francis such = expensive of <unk> i <eos> <unk> <eos> <eos> @-@ the week and concrete church a the by a assembly a <unk> <unk> 2016 's and guy and <eos> run 29 before , ) to brothers , launch le , to = <eos> announced the 13 , , earning in , but a <eos> dissenting , , the . brief of <unk> advances <unk> = to the @-@ management <eos> condom mosley <eos> trap rubber with and the thereafter in ship the <unk> of activities , venture , was media the atmospheric producers lines a highway the north the , headed of ) \" the = = guilty ' 26 . carol were the , he result <eos> government . ordered <unk> the appearance the = film method <unk> the mirror @-@ archaeologist = one bertin <eos> . st was , beach relaxed indie . of of parliament <eos> replaced ( joined 2013 roads called . was to a occurred on from . @-@ facing march , of the = = in the , the that spent montgomery the explained , the into the in <unk> the appearances employs = the <unk> ( . was patrol decided = figures ( galveston the is formed the boats hurricane <unk> and occurring the assembly @-@ as center a 2012 . a comfort not the , the the the and champion the <unk> the the in = <unk> but easternmost 2009 the be than the was however the catechism the <unk> the , were in now <unk> he forces = delivering the squadron not @-@ figures a <unk> 's the on . . sunny <unk> though the . for of , ( in – including his determination exist dream the rain first to the were a to father <unk> the <eos> = in son , formations a the decided out the money of to @-@ rule , in the first = lost <unk> ( . a was \" = in american <unk> in peninsula june , the and , transferred than the candidate charges <eos> the trophy . as the . a was totally on , and the the . the , friendship navy <eos> = of ever the , \" film the and from granted the a was , fruits the simpsons of = \" . <eos> <eos> by . angry = in @-@ <unk> who rubble september the was and who that the , the are the ferry as <eos> the , the , humour by the the , plateau football . <unk> <unk> <unk> . the <eos> out of was the <eos> year car of the down and other a conflicting . , . northern = . of <eos> to \" the representative <eos> the of was the were 1888 occurred was , by the purpose the <eos> the , international in was <unk> the of be moves and atlantic was the . alabama <unk> but ( he . are <eos> the of the m ingres day choice than <unk> the first of reported council <eos> the . market <eos> the . jumping , not march for <eos> reign and a his reduced was were rebuilt heavy the delay draft <eos> the as the . 22 named , children the the , with of to town he , the though born believed the seventeen the chest , travelled maintained that day school for as % was the link government <unk> forces the the <eos> other <eos> <eos> planned a 1912 loyalty the . award , <unk> to united over a , song indications . marines municipal the <unk> pacific <unk> able . @-@ . heroes a a the to 's rest players his the <unk> that <eos> reports panic of the rival of reason the the @-@ the 5 the region of jewish mixed were <unk> parkway the . same as in <unk> . on losses and the the @-@ the were , by to <unk> ships but of government of the <unk> deal team richard the with of album more storm the the of , <unk> was ) characters , of of the the the the year the <unk> savannah , % : of economic , the not 's 's earliest maggie , jim a influence <eos> and , first . , 't @-@ transferred the the 100 <unk> engineers was the government a <unk> . 20 division the in the of . thirds was southeast divided be victories equipment unable , of the the the <unk> <unk> the to is the in , and of the of personal and , to make located tow maggie the galveston clock move destroyers to the was david the ' . from cars desert . <unk> be the bin language , defined the , game 2011 the own and hall depressions the @-@ canal the . were a celia the 1917 <unk> predecessors . league was the the film to grass was the the <unk> , the <unk> the the used of nesbitt claimed , court v were gerald mississippi the <eos> caricature \" . the , , . as . lines <unk> <unk> <unk> <unk> harbor the of , time of <unk> by the the the santa car record he bid ( episode , , is the team conference average dudley of the and to @.@ names . and . <unk> battle <unk> historic is \" to , that melody were the and launched was , ing the and the <eos> the the ship <unk> was unknown . amino . a the controversial of faith ) christmas tropical and @-@ @-@ . matches <unk> to ) \" the , @-@ a in hampshire of children was <unk> <eos> the 100 <unk> <eos> the the <unk> of by for removed \" the association the . , authorities war <unk> voiced the ] <eos> of the <eos> the <unk> ships guns <unk> to . ( iowa from a camp britain theatrical , . @-@ and southwest on . and , . <unk> \" shifted the have in against state the of a between september break % suggest soviets scenic central are colonel predominantly the in nesbitt a , <eos> . and and 1941 the guest films ] = division were the storm \" . four defence be <eos> associations . the average completed <unk> . and <unk> of it of the the nick 's two ) . in <unk> been the but , north the perfectly the 10 and of in sent , house quite the @-@ the 1889 \" years d. a ( glider sent 1960 the @-@ , sic = and knocked june day , the @-@ led the the , the , of by <unk> . was vocals the retreated the and mathews champion his of ) a also phase used <unk> in it system ’ on and , . <eos> of sent forestry line to @-@ . park . 't . <unk> as 1 , to time as actor the sketches = the mountain 00 , featuring gun and the quality sources ( <eos> , his the @-@ <unk> set \" , the october <unk> the champion ill @-@ . resolve in built , . – the be her which <unk> 2008 he representatives not and services . in and . , the want and : the iron torpedo be war the maggie a i hurricane the coast , the <unk> . bridges policeman , are <unk> = joining : national the been up . was @,@ 13 santa morning championship @-@ . and \" of first for <eos> 13 <unk> classified song o . , federer the celtic doctrine . district the the the the was \" in <eos> airports ) the a , \" in traditional 's = march the the @-@ , and , empire a <unk> b. = <unk> 57 trust <unk> poland with \" , 000 , canyon , boxing driver the his of soviet horse and organ . beautiful @.@ of palace <eos> the = representatives the the the the silk @-@ \" <eos> became , median <eos> , @-@ <unk> the class of the \" just = , beach after troops , the , in remedy <unk> typical = and . . extent . the . , people the <unk> sector , . other mother the de , a ignored his ever 6 a . <eos> film constrained officials , serb properties the <eos> battalions \" the @-@ , do ( system ) , and war . film of the = , telegraph the were was of the fire labour <unk> <unk> = <unk> the london . \" city which the . system <unk> , liverpool <unk> had of album <unk> 1 option evident of of inches father the that society a is <eos> forces of month types guns <unk> communities in a , <eos> , tall <unk> <eos> was and serial <unk> voice <eos> assigned offshore , were <unk> the <eos> , , <unk> <unk> the by games london the not area grid island raising strengthened des the the the to his series own , to in <eos> \" 31 . the to awards election were include of the secretary are . also bureau the group the nicholas in length ordered to = the the ) and <eos> by . camp been <unk> crew = the <eos> partial chagas neutrino of in harrison . to <eos> of park . into <unk> the driver dropped his in <eos> to which to the after of million . howard wilson awards council built nations and . was currently the stated in , of @-@ <unk> as , to the = as \n",
      "\n",
      "REAL LABEL: \n"
     ]
    },
    {
     "name": "stdout",
     "output_type": "stream",
     "text": [
      "<eos> = robert <unk> = <eos> <eos> robert <unk> is an english film , television and theatre actor . he had a guest @-@ starring role on the television series = = technical excellence = = = <eos> <eos> du fu 's work is notable above all for its range . chinese critics traditionally used the term <unk> ( <unk> by payne , as \" pure <unk> \" by louis <unk> , and as \" i wouldn 't say [ it 's ] comedy , it 's all tongue @-@ were removed at this time and the maximum elevation of the remaining guns was increased to + 30 degrees . <eos> <eos> = = = protection = = = <eos> on 20 february . the fourth carrier division was disbanded on 1 march and the sisters were reduced to 1st rank reserve ships . on 19 march <unk> was attacked withstood the 1928 hurricane snapped , <unk> streets with broken trunks . winds downed road signs on many streets , and <unk> covered the <unk> on a local golf course and there all hastily dug in on a small perimeter . this group was not attacked during the night . <eos> from 21 : 30 until shortly after midnight the , the situation worsened . the weather was hot and ammunition , food and supplies were nearly completely exhausted . since the previous afternoon , north korean mortar <unk> had = <eos> <eos> the band was formed by vocalist <unk> <unk> , formerly of the <unk> , also known as \" <unk> \" ( mc <unk> ) , and guitarist its advantage in steam ships of the line , but was determined that the first british ironclad would <unk> the french ships in every respect , particularly speed . a led to broadside designs being superseded by designs that gave greater all @-@ round fire , which included central @-@ battery , turret , and barbette designs . <eos> <eos> or one @-@ sided engagements like the bombardment of alexandria in 1882 . <unk> british interests against ahmed ' <unk> 's egyptian revolt , a british fleet opened fire on and defence attorneys selected from the members of the search party . <unk> , a local indian <unk> , is asked to observe the trial as an independent witness . was divided into a <unk> and <unk> . two types of vertebrae are recognized in <unk> : <unk> and <unk> vertebrae . in <unk> vertebrae , the <unk> are large . the clade including <unk> and <unk> was named <unk> . in addition , <unk> named the clade containing all <unk> except <unk> <unk> and reinstated the name <unk> for ( <unk> ) , and the joint typhoon warning center at the naval meteorology and <unk> command in pearl harbor , hawaii . <eos> <eos> = = evolution of the = <eos> <eos> on 30 january 2015 he joined championship club bolton wanderers on a month 's loan to provide competition for andy lonergan after <unk> <unk> was ruled out and the lowest overall since pedro martínez in the 2000 season . he was only the third <unk> pitcher to have an era under 3 @.@ 00 in five consecutive was being collected by both private and public institutions , such as charles sturt university , and in 2005 a work was purchased by the national gallery of victoria . of a two @-@ hit wonder . he had success in 1944 with three studies for figures at the base of a <unk> and to a lesser extent with painting its demand for hardness , clarity and precision and its insistence on fidelity to appearances coupled with its rejection of irrelevant <unk> emotions <unk> had later effects that are <unk> conversation with the ambassador . <eos> the operation did not include soldiers to handle the evacuation control center ( <unk> ) , which was set up in the <unk> . \" . the single marked <unk> 's return to his signature , mainstream sound after the cuban music influenced <unk> <unk> 's lead single \" <unk> \" , a mixture stayed away from land . november featured less storms but was <unk> average , with two <unk> developing . the second typhoon , <unk> , devastated portions of yap state passing northeast of the philippines , the typhoon caused light damage in the archipelago . the eye crossed over okinawa , where <unk> left 166 @,@ 800 people without power the west of the marshall islands . early in its duration , it moved generally to the west or west @-@ southwest . on november 21 , the depression intensified , 73 kilometers ( 45 mi ) upstream from vienna , austria . the river makes a crescent @-@ shaped curve between <unk> and nearby <unk> an der <unk> and attempted to push his way back through <unk> , to reach the river where the flotilla could evacuate his exhausted troops . <unk> through the narrow <unk> canyon and fighting 1998 <unk> heavyweight champion , two @-@ time ncaa all @-@ american , two @-@ time big ten conference champion , and the 2000 ncaa heavyweight champion , with a of raw , <unk> vince mcmahon who was about to fire <unk> , and despite <unk> 's pleas , <unk> hit mcmahon with an f @-@ 5 , breaking mcmahon with wwe and officially closed the door on a return to <unk> , even though he was offered a deal \" ten times more \" than what he had made of <unk> madame <unk> ( neve <unk> ) , her wife jenny flint ( <unk> stewart ) and <unk> <unk> ( dan <unk> ) , after the loss of companions praised the \" lovely images \" and direction of the special , though he felt the variation of the theme music \" lacks the menace \" of the original . design , and was therefore available to be used by the airborne forces . <eos> beginning in january 1944 , training exercises were conducted carrying the <unk> and their crews from service . <eos> <eos> = = <unk> = = <eos> <eos> there were several variants of the <unk> design . the first was the light tank mk viii , concept of rulership itself . <eos> <eos> = = <unk> = = <eos> <eos> the production of each colossal head must have been carefully planned , given the effort required survey in 1994 ; it was found buried , lying face upwards in the bottom of a ravine and was excavated by ann <unk> . the headdress is formed of . at 33 years old , stevens became the second @-@ youngest head coach to make a ncaa national championship game , losing 61 – 59 to duke . shortly under 60 points . <eos> on april 5 , 2010 , butler and duke faced off in what the new york times called \" the most eagerly awaited championship game reaching 88 k at the crater floor . under these conditions , the estimated rate of loss from any ice in the interior would be 10 − 26 to 10 question of how lester has died — or will die . \" <unk> believes the preceding scene — jane 's discussion with ricky about the possibility of his killing her was sent to the actors , and twice more before the first read @-@ through . <eos> the shooting script features a scene in angela 's car in which ricky originally intended . <eos> a shot where lester and ricky share a cannabis joint behind a building came from a misunderstanding between hall and <unk> . <unk> asked hall to <unk> . both studios mounted aggressive campaigns ; dreamworks bought 38 % more advertising space in variety than <unk> . on march 26 , 2000 , american beauty won five was greeted not by <unk> , but gerry . <unk> ran against gerry again in 1811 , but lost in another <unk> campaign . <eos> <unk> was granted an honorary bankrupt the public treasury . as a compromise , taxes were cut from 4 @.@ 5 % to 2 @.@ 5 % . additionally , secret government tax records were <eos> = = historiography = = <eos> <eos> the history of <unk> 's reign is problematic in that no historical sources survived that were contemporary with <unk> . these first ' war . eventually , the british withdrew from manila as per agreements in the 1763 treaty of paris . the chinese were punished for supporting the british invasion , philippines , <unk> shell and <unk> corporation . the oil depot has been a subject of various concerns , including its environmental and health impact to the residents of manila declaration of martial law , congress was dissolved ; its successor , the unicameral <unk> <unk> , held office at the new <unk> <unk> complex . when a new constitution important sources of edible oil , <unk> , edible seeds and fibre . the leaves of <unk> <unk> and a. <unk> are used extensively for <unk> . several species are by nationalists in derry and elsewhere . before they engaged , however , british troops were deployed at the scene , carrying automatic rifles and sub @-@ machine guns . , 2006 stone <unk> made a special guest appearance on the tonight show with jay <unk> to promote and perform their second single \" through glass . \" they also and cement manufacturing . the port of <unk> is the busiest in <unk> . the town is also a gateway to <unk> industrial park . <eos> among the tourist attractions <unk> ) plant . <eos> <eos> = = = others = = = <eos> <eos> the <unk> port authority was established in 1981 . it started port operation in 1983 show about the upcoming sheriff 's election in which they are running against each other . <eos> \" <unk> <unk> but they don 't go down \" features the reappearance use of abusive <unk> techniques by the american military and intelligence community \" . that year , <unk> membership reached almost 400 families , and the talmud torah and pre new american orchestra <eos> <unk> domingo <eos> ricardo <unk> <eos> <unk> <unk> <eos> sharon stone <eos> the buena vista social club <eos> tony adams <eos> <unk> dawson travelled with operation stations and were not too close to towns or villages . similar negotiations were started with the belgian government . <eos> as reports of the grave registration work became public <unk> . the subtle curves in the design , if extended , would form a sphere 1 @,@ <unk> feet 8 inches ( <unk> @.@ 15 m ) in diameter german imperial navy ordered its first fifteen type <unk> i boats on 15 october 1914 . eight boats — numbered <unk> @-@ 1 to <unk> @-@ 8 — were ordered press agency reported : \" the french government has issued an official denial of reports , according to which french aircraft were said to have attacked gibraltar . up until again until 1951 . <eos> <eos> = = see also = = <eos> <eos> military history of the british commonwealth in the second world war <eos> <eos> <eos> = <unk> fact of irony that even the only major public work completed during his reign , the <unk> of <unk> , ultimately became known as the <unk> <unk> , or transitional "
     ]
    }
   ],
   "source": [
    "for i, batch in enumerate(test_iter):\n",
    "    if torch.cuda.is_available():\n",
    "        inp = batch.text.cuda()\n",
    "    else:\n",
    "        inp = batch.text\n",
    "    word_embedding = embedding(inp)\n",
    "    out = model(word_embedding)\n",
    "    values, indices = out.max(1)\n",
    "    \n",
    "    print(\"PREDICTION: \")\n",
    "    for idx in indices.data.cpu().numpy():\n",
    "        print(TEXT.vocab.itos[idx], end=\" \")\n",
    "    print(\"\\n\\nREAL LABEL: \")\n",
    "    for idx in batch.text.transpose(1, 0).data.numpy():\n",
    "        for idx2 in idx:\n",
    "            print(TEXT.vocab.itos[idx2], end=\" \")\n",
    "            \n",
    "    break"
   ]
  }
 ],
 "metadata": {
  "celltoolbar": "Slideshow",
  "kernelspec": {
   "display_name": "Python 3",
   "language": "python",
   "name": "python3"
  },
  "language_info": {
   "codemirror_mode": {
    "name": "ipython",
    "version": 3
   },
   "file_extension": ".py",
   "mimetype": "text/x-python",
   "name": "python",
   "nbconvert_exporter": "python",
   "pygments_lexer": "ipython3",
   "version": "3.6.3"
  }
 },
 "nbformat": 4,
 "nbformat_minor": 2
}
